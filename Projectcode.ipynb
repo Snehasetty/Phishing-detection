# Import necessary libraries
import pandas as pd
from sklearn.model_selection import train_test_split
from sklearn.ensemble import RandomForestClassifier
from sklearn.metrics import accuracy_score, classification_report,confusion_matrix

# Load the dataset

dataset = pd.read_csv('dataset.csv')

# Explore the dataset
print(dataset.head())

# Split the data into features (X) and target variable (y)
X = dataset.drop('PctExtResourceUrlsRT', axis=1)  # Features
y = dataset['CLASS_LABEL']  # Target variable

# Split the data into training and testing sets
X_train, X_test, y_train, y_test = train_test_split(X, y, test_size=0.2, random_state=42)

# Initialize and train a Random Forest classifier
clf = RandomForestClassifier()
clf.fit(X_train, y_train)

# Make predictions on the test set
y_pred = clf.predict(X_test)

# Evaluate the model
accuracy = accuracy_score(y_test, y_pred)
print(f"Accuracy: {accuracy:.2f}")

# Display classification report
print("Classification Report:")
print(classification_report(y_test, y_pred))
print("confusion matrix:")
print(confusion_matrix(y_test,y_pred))


  
            
         
