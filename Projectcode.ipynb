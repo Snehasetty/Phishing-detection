{
  "nbformat": 4,
  "nbformat_minor": 0,
  "metadata": {
    "colab": {
      "provenance": []
    },
    "kernelspec": {
      "name": "python3",
      "display_name": "Python 3"
    },
    "language_info": {
      "name": "python"
    }
  },
  "cells": [
    {
      "cell_type": "code",
      "source": [
        "import pandas as pd\n",
        "from sklearn.tree import DecisionTreeClassifier\n",
        "from sklearn.model_selection import train_test_split\n",
        "from sklearn.metrics import accuracy_score\n",
        "# Load the dataset\n",
        "df = pd.read_csv('Phishing_Legitimate_full[1].csv')\n",
        "# Split the dataset into training and testing sets\n",
        "\n",
        "X_train, X_test, y_train, y_test = train_test_split(X, y, test_size=0.3, random_state=42)\n",
        "# Create a decision tree classifier\n",
        "dtc = DecisionTreeClassifier(random_state=42)\n",
        "# Train the classifier on the training set\n",
        "X = df.drop('SubdomainLevel', axis=1)\n",
        "y = df['SubdomainLevel']\n",
        "\n",
        "dtc.fit(X_train, y_train)\n",
        "# Make predictions on the testing set\n",
        "y_pred = dtc.predict(X_test)\n",
        "# Evaluate the accuracy of the classifier\n",
        "accuracy = accuracy_score(y_test, y_pred)\n",
        "print('Accuracy:', accuracy*100)\n",
        "print(\"Confusion Matrix:\")\n",
        "print(confusion_matrix(y_test, y_pred))\n",
        "\n",
        "\n"
      ],
      "metadata": {
        "colab": {
          "base_uri": "https://localhost:8080/"
        },
        "id": "pIewWawMeXBF",
        "outputId": "1554ee90-3401-469b-96cd-925466b1454a"
      },
      "execution_count": null,
      "outputs": [
        {
          "output_type": "stream",
          "name": "stdout",
          "text": [
            "Accuracy: 85.06666666666666\n",
            "Confusion Matrix:\n",
            "[[1283  218    2    0    0    0    0    0    0    0    0]\n",
            " [ 201 1173    5    0    0    0    0    0    0    0    0]\n",
            " [   2    8   70    1    0    0    0    0    0    0    0]\n",
            " [   0    0    0    3    3    0    0    0    1    0    0]\n",
            " [   0    0    0    0   10    0    0    0    0    0    0]\n",
            " [   0    0    0    0    1    2    1    0    0    0    0]\n",
            " [   0    0    0    0    0    0    7    0    0    0    0]\n",
            " [   0    0    0    0    0    0    1    1    0    0    0]\n",
            " [   0    0    0    0    0    0    0    0    2    0    2]\n",
            " [   0    0    0    0    0    0    2    0    0    0    0]\n",
            " [   0    0    0    0    0    0    0    0    0    0    1]]\n"
          ]
        }
      ]
    }
  ]
}